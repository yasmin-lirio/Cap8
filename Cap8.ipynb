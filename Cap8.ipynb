{
  "nbformat": 4,
  "nbformat_minor": 0,
  "metadata": {
    "colab": {
      "name": "Cap8.ipynb",
      "provenance": []
    },
    "kernelspec": {
      "name": "python3",
      "display_name": "Python 3"
    },
    "language_info": {
      "name": "python"
    }
  },
  "cells": [
    {
      "cell_type": "code",
      "metadata": {
        "colab": {
          "base_uri": "https://localhost:8080/"
        },
        "id": "UILEjyx6z4Em",
        "outputId": "0d1113bd-4528-47a0-ee43-e150868225a9"
      },
      "source": [
        "import random\n",
        "\n",
        "def escolhe(matricula):\n",
        "    random.seed(matricula)\n",
        "    cap1 = (2,8,9,11,12,15,16,18,20,21,22,24,26,27,28,30,31,32)    \n",
        "    cap2 = (36,40,44,45,46,48,50,51,53,55,56,57,59,60)\n",
        "    cap3 = (63,64,65,68,71,72,74,76,78,80,81,84)\n",
        "    cap4 = (85,86,87,89,91,92,94,97,99,101,103,104,106)\n",
        "    cap5 = (111,115,117,118,119,122,123,124,126,127,131,132,133)\n",
        "    cap6 = (138,139,140,141,144,147,148)\n",
        "    cap7 = (152,153,154,155,157,160,161,164,165,166,168,171,172)\n",
        "    cap8 = (174,175,176,177,179,181,182,185)\n",
        "    return(random.sample(cap8, k=2))\n",
        "\n",
        "print(\"Você deverá entregar os exercícios: \", escolhe(input(\"Escreva o número de sua matricula\")))"
      ],
      "execution_count": 2,
      "outputs": [
        {
          "output_type": "stream",
          "text": [
            "Escreva o número de sua matricula 180029398\n",
            "Você deverá entregar os exercícios:  [179, 174]\n"
          ],
          "name": "stdout"
        }
      ]
    },
    {
      "cell_type": "markdown",
      "metadata": {
        "id": "_s5695-J031M"
      },
      "source": [
        "# Exercise 173: Total the Values"
      ]
    },
    {
      "cell_type": "code",
      "metadata": {
        "colab": {
          "base_uri": "https://localhost:8080/"
        },
        "id": "_X6EHO1t05he",
        "outputId": "17e8f808-3a3d-4383-aaa4-04905bd669c4"
      },
      "source": [
        "def readAndTotal():\n",
        "  line = input(\"Enter a number (blank to quit): \")\n",
        "  if line == \"\":\n",
        "    return 0\n",
        "  else:\n",
        "    return float(line) + readAndTotal()\n",
        "\n",
        "def main():\n",
        "  total = readAndTotal()\n",
        "  print(\"The total of all those values is\", total)\n",
        "\n",
        "main()"
      ],
      "execution_count": 3,
      "outputs": [
        {
          "output_type": "stream",
          "text": [
            "Enter a number (blank to quit): 1\n",
            "Enter a number (blank to quit): 1\n",
            "Enter a number (blank to quit): \n",
            "The total of all those values is 2.0\n"
          ],
          "name": "stdout"
        }
      ]
    },
    {
      "cell_type": "markdown",
      "metadata": {
        "id": "ZCh6tBYI8Nwr"
      },
      "source": [
        "# Exercise 174: Greatest Common Divisor"
      ]
    },
    {
      "cell_type": "code",
      "metadata": {
        "colab": {
          "base_uri": "https://localhost:8080/"
        },
        "id": "Xscdjsii6tBo",
        "outputId": "da0339b6-2d4c-4919-b64e-e39769aab526"
      },
      "source": [
        "def mdc(a, b):\n",
        "    return a if not b else mdc(b, a % b)\n",
        "\n",
        "mdc(32,16)"
      ],
      "execution_count": 6,
      "outputs": [
        {
          "output_type": "execute_result",
          "data": {
            "text/plain": [
              "16"
            ]
          },
          "metadata": {
            "tags": []
          },
          "execution_count": 6
        }
      ]
    },
    {
      "cell_type": "markdown",
      "metadata": {
        "id": "ajaeJ62C8PqS"
      },
      "source": [
        "# Exercise 178: Recursive Palindrome"
      ]
    },
    {
      "cell_type": "code",
      "metadata": {
        "colab": {
          "base_uri": "https://localhost:8080/"
        },
        "id": "_gW3gBiK8lRJ",
        "outputId": "5fe6774a-c467-4a04-802f-47504c6b01dc"
      },
      "source": [
        "def isPalindrome(s):\n",
        "  if len(s) <= 1:\n",
        "    return True\n",
        "  return s[0] == s[len(s) - 1] and isPalindrome(s[1 : len(s) - 1])\n",
        "\n",
        "def main():\n",
        "  line = input(\"Digite uma string: \")\n",
        "  if isPalindrome(line):\n",
        "    print(\"É um palindromo!\")\n",
        "  else:\n",
        "    print(\"Não é um palindromo.\")\n",
        "\n",
        "main()"
      ],
      "execution_count": 9,
      "outputs": [
        {
          "output_type": "stream",
          "text": [
            "Digite uma string: ovo\n",
            "É um palindromo!\n"
          ],
          "name": "stdout"
        }
      ]
    },
    {
      "cell_type": "markdown",
      "metadata": {
        "id": "_obES3vw9oDU"
      },
      "source": [
        "# Exercise 179: Recursive Square Root"
      ]
    },
    {
      "cell_type": "code",
      "metadata": {
        "colab": {
          "base_uri": "https://localhost:8080/"
        },
        "id": "a21MSr6nEbpa",
        "outputId": "b383e291-1c03-40d0-8dd9-22e5c201c38e"
      },
      "source": [
        "def raizaprox(n,guess=1):\n",
        "  if abs((guess*guess)-n)<= 10**(-12):\n",
        "    return guess\n",
        "  else:\n",
        "    return raizaprox(n,( guess + (n/guess))/2)\n",
        "\n",
        "def main():\n",
        "  for i in (4,9,16,25): \n",
        "    print(\"A raiz aproximada de\",i,\"é\",round(raizaprox(i)))\n",
        "main()"
      ],
      "execution_count": 17,
      "outputs": [
        {
          "output_type": "stream",
          "text": [
            "A raiz aproximada de 4 é 2\n",
            "A raiz aproximada de 9 é 3\n",
            "A raiz aproximada de 16 é 4\n",
            "A raiz aproximada de 25 é 5\n"
          ],
          "name": "stdout"
        }
      ]
    },
    {
      "cell_type": "markdown",
      "metadata": {
        "id": "IF_dX5rRXEY_"
      },
      "source": [
        "# Exercise 180: String Edit Distance"
      ]
    },
    {
      "cell_type": "code",
      "metadata": {
        "colab": {
          "base_uri": "https://localhost:8080/"
        },
        "id": "zZ5W81LtXHPH",
        "outputId": "377502d4-6f43-43df-d1df-5b88b264d114"
      },
      "source": [
        "def editDistance(s, t):\n",
        "  if len(s) == 0:\n",
        "    return len(t)\n",
        "  elif len(t) == 0:\n",
        "    return len(s)\n",
        "  else:\n",
        "    cost = 0\n",
        "    if s[len(s) - 1] != t[len(t) - 1]:\n",
        "      cost = 1\n",
        "    d1 = editDistance(s[0 : len(s) - 1], t) + 1\n",
        "    d2 = editDistance(s, t[0 : len(t) - 1]) + 1\n",
        "    d3 = editDistance(s[0 : len(s) - 1] , t[0 : len(t) - 1]) + cost\n",
        "    return min(d1, d2, d3)\n",
        "\n",
        "def main():\n",
        "  s1 = input(\"Digite uma frase: \")\n",
        "  s2 = input(\"Digite outra frase: \")\n",
        "  print(\"A distância de edição entre %s e %s é %d.\" % (s1, s2, editDistance(s1, s2)))\n",
        "\n",
        "main()"
      ],
      "execution_count": 20,
      "outputs": [
        {
          "output_type": "stream",
          "text": [
            "Digite uma frase: kitten\n",
            "Digite outra frase: sitting\n",
            "A distância de edição entre kitten e sitting é 3.\n"
          ],
          "name": "stdout"
        }
      ]
    }
  ]
}